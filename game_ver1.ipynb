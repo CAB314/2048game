{
  "nbformat": 4,
  "nbformat_minor": 0,
  "metadata": {
    "colab": {
      "name": "game.ipynb",
      "provenance": [],
      "collapsed_sections": [],
      "authorship_tag": "ABX9TyM32Bsd2lqbkoS8TE1LpENx",
      "include_colab_link": true
    },
    "kernelspec": {
      "name": "python3",
      "display_name": "Python 3"
    },
    "language_info": {
      "name": "python"
    }
  },
  "cells": [
    {
      "cell_type": "markdown",
      "metadata": {
        "id": "view-in-github",
        "colab_type": "text"
      },
      "source": [
        "<a href=\"https://colab.research.google.com/github/CAB314/2048game/blob/main/game_ver1.ipynb\" target=\"_parent\"><img src=\"https://colab.research.google.com/assets/colab-badge.svg\" alt=\"Open In Colab\"/></a>"
      ]
    },
    {
      "cell_type": "markdown",
      "source": [
        "# Model_basic\n"
      ],
      "metadata": {
        "id": "xy0Req6qaCFq"
      }
    },
    {
      "cell_type": "code",
      "source": [
        "!mkdir /content/game\n",
        "\n",
        "code = ['import numpy as np\\nfrom IPython.display import clear_output\\n', 'class Model():\\n', '  def __init__(self, size = (4, 4), score = 0, done = False):\\n', '    self._size = size\\n', '    self._score = score\\n', '    self._done = done\\n', '    self._empty = 1\\n', '    self._tiles = np.array([[self._empty for c in range(self._size[1])] for r in range(self._size[0])])\\n', '\\n', '  def __str__(self):\\n', '    return \"Score:{}\\\\nGameover:{}\\\\n______________________\\\\n{}\".format(self._score, self._done, self._tiles)\\n', '\\n', '  def action(self, command):\\n', '    param = {\\n', '        \"u\":[range(self._size[0]), range(self._size[1]), -1, 0],\\n', '        \"d\":[range(self._size[0] -1, -1, -1), range(self._size[1] -1, -1, -1), 1, 0],\\n', '        \"l\":[range(self._size[0]), range(self._size[1]), 0, -1],\\n', '        \"r\":[range(self._size[0] -1, -1, -1), range(self._size[1] -1, -1, -1), 0, 1]\\n', '    }\\n', '    rows, cols, dr, dc = param[command]\\n', '    for row in rows:\\n', '      for col in cols:\\n', '        r = row\\n', '        c = col\\n', '\\n', '        while True:\\n', '          r += dr\\n', '          c += dc\\n', '          if 0 <= r < self._size[0] and 0 <= c < self._size[1]:\\n', '            if self._tiles[r, c] == self._empty:\\n', '              self._tiles[r, c] = self._tiles[r - dr, c - dc]\\n', '              self._tiles[r - dr, c - dc] = self._empty\\n', '\\n', '            elif self._tiles[r, c] == self._tiles[r - dr, c - dc]:\\n', '              self._tiles[r, c] += self._tiles[r - dr, c - dc]\\n', '              self._tiles[r - dr, c - dc] = self._empty\\n', '              self._score += self._tiles[r, c]\\n', '              break\\n', '            \\n', '            else:\\n', '              break\\n', '\\n', '          else:\\n', '            break\\n', '\\n', '  def update(self):\\n', '    rows, cols = np.where(self._tiles == self._empty)\\n', '    if len(rows) == 0:\\n', '      self._done = True\\n', '\\n', '    else:\\n', '      idx = np.random.randint(0, len(rows))\\n', '      row, col = rows[idx], cols[idx]\\n', '      val = self.new_tile_val()\\n', '      self._tiles[row, col] = val\\n', '\\n', '  def new_tile_val(self):\\n', '    return 2\\n', '  \\n']\n",
        "\n",
        "with open('/content/game/model.py', 'w') as f:\n",
        "  for wr in code:\n",
        "    print(wr, file=f, end = \"\")"
      ],
      "metadata": {
        "id": "FTJgV2pjl2NN"
      },
      "execution_count": null,
      "outputs": []
    },
    {
      "cell_type": "code",
      "execution_count": null,
      "metadata": {
        "id": "bkCMEevaeeHY"
      },
      "outputs": [],
      "source": [
        "import sys\n",
        "sys.path.append(\"/content/game\")\n",
        "from model import Model\n",
        "import numpy as np\n",
        "from IPython.display import clear_output, HTML, display, update_display\n",
        "from google.colab import output"
      ]
    },
    {
      "cell_type": "code",
      "source": [
        "class View():\n",
        "  def __init__(self, model):\n",
        "    self._model = model\n",
        "    self._html = \"\"\n",
        "    self._css = \"\"\n",
        "    self._js = \"\"\n",
        "\n",
        "  def css(self):\n",
        "    self._css = \"\"\"\n",
        "    * {text-align:center;}\n",
        "    .tile {font-size:24px;} \n",
        "    \"\"\"\n",
        "\n",
        "  def js(self):\n",
        "    # update に引数を渡す\n",
        "    self._js=\"\"\"\n",
        "    document.querySelector('#u').onclick = () => {google.colab.kernel.invokeFunction('update', ['u'], {});};\n",
        "    document.querySelector('#d').onclick = () => {google.colab.kernel.invokeFunction('update', ['d'], {});};\n",
        "    document.querySelector('#l').onclick = () => {google.colab.kernel.invokeFunction('update', ['l'], {});};\n",
        "    document.querySelector('#r').onclick = () => {google.colab.kernel.invokeFunction('update', ['r'], {});};\n",
        "    \"\"\"\n",
        "\n",
        "  def html(self):\n",
        "    self.css()\n",
        "    self.js()\n",
        "    table = \"<table border = '1', align = 'center'>\"\n",
        "    for r in range(self._model._size[0]):\n",
        "      table += \"<tr>\"\n",
        "      for c in range(self._model._size[1]):\n",
        "        if(self._model._tiles[r, c] != self._model._empty):\n",
        "          color = \"ffcc{:02x}\".format(min(np.log2(self._model._tiles[r, c]).astype(\"int\") * 64, 255))\n",
        "          table += \"<td width = '60pt' height = '60pt' bgcolor = '{}'>{}</td>\".format(color, self._model._tiles[r, c])\n",
        "        else:\n",
        "          table += \"<td width = '60pt' height = '60pt'></td>\"\n",
        "\n",
        "\n",
        "      table += \"</tr>\"\n",
        "    table += \"</table>\"\n",
        "\n",
        "    self._html = \"\"\"\n",
        "    <html>\n",
        "      <head>\n",
        "        <style>{}</style>\n",
        "        <script>{}</script>\n",
        "      </head>\n",
        "      <body>\n",
        "        <h1>2048</h1>\n",
        "        <hr>\n",
        "        <h2>Score:{}</h2>\n",
        "        <h2>Gameover:{}</h2>\n",
        "        <hr>\n",
        "        <button id = 'u'>↑</button>\n",
        "        <br>\n",
        "        <button id = 'l'>←</button>\n",
        "        <button id = 'd'>↓</button>\n",
        "        <button id = 'r'>→</button>\n",
        "        <hr>\n",
        "        <div class = 'tiles'>{}</div>\n",
        "      </body>\n",
        "      \"\"\".format(self._css, self._js, self._model._score, self._model._done, table)\n",
        "  \n",
        "  def display(self):\n",
        "    self.html()\n",
        "    display(HTML(self._html))\n",
        "    output.register_callback('update', self.update)\n",
        "\n",
        "  def update(self, command):\n",
        "    self._model.action(command)\n",
        "    self._model.update()\n",
        "    self.html()\n",
        "    clear_output()\n",
        "    self.display()\n",
        "\n"
      ],
      "metadata": {
        "id": "MXoi_SElorEo"
      },
      "execution_count": null,
      "outputs": []
    },
    {
      "cell_type": "code",
      "source": [
        "def main(m = Model()):\n",
        "  v = View(model = m)\n",
        "  m.update()\n",
        "  v.display()\n",
        "\n",
        "if __name__ ==\"__main__\":\n",
        "  main()"
      ],
      "metadata": {
        "id": "kmd_QTxdYc_c"
      },
      "execution_count": null,
      "outputs": []
    },
    {
      "cell_type": "markdown",
      "source": [
        "# Expand"
      ],
      "metadata": {
        "id": "woabhpFfYyED"
      }
    },
    {
      "cell_type": "code",
      "source": [
        "class View_with_end(View):\n",
        "  def __init__(self, model):\n",
        "    self._model = model\n",
        "    self._html = \"\"\n",
        "    self._css = \"\"\n",
        "    self._js = \"\"\n",
        "\n",
        "  def css(self):\n",
        "    self._css = \"\"\"\n",
        "    * {text-align:center;}\n",
        "    .tile {font-size:24px;} \n",
        "    \"\"\"\n",
        "\n",
        "  def js(self):\n",
        "    # update に引数を渡す\n",
        "    self._js=\"\"\"\n",
        "    document.querySelector('#u').onclick = () => {google.colab.kernel.invokeFunction('update', ['u'], {});};\n",
        "    document.querySelector('#d').onclick = () => {google.colab.kernel.invokeFunction('update', ['d'], {});};\n",
        "    document.querySelector('#l').onclick = () => {google.colab.kernel.invokeFunction('update', ['l'], {});};\n",
        "    document.querySelector('#r').onclick = () => {google.colab.kernel.invokeFunction('update', ['r'], {});};\n",
        "    \"\"\"\n",
        "\n",
        "  def html(self):\n",
        "    self.css()\n",
        "    self.js()\n",
        "    table = \"<table border = '1', align = 'center'>\"\n",
        "    for r in range(self._model._size[0]):\n",
        "      table += \"<tr>\"\n",
        "      for c in range(self._model._size[1]):\n",
        "        if(self._model._tiles[r, c] != self._model._empty):\n",
        "          color = \"ffcc{:02x}\".format(min(np.log2(self._model._tiles[r, c]).astype(\"int\") * 64, 255))\n",
        "          table += \"<td width = '60pt' height = '60pt' bgcolor = '{}'>{}</td>\".format(color, self._model._tiles[r, c])\n",
        "        else:\n",
        "          table += \"<td width = '60pt' height = '60pt'></td>\"\n",
        "\n",
        "\n",
        "      table += \"</tr>\"\n",
        "    table += \"</table>\"\n",
        "\n",
        "    self._html = \"\"\"\n",
        "    <html>\n",
        "      <head>\n",
        "        <style>{}</style>\n",
        "        <script>{}</script>\n",
        "      </head>\n",
        "      <body>\n",
        "        <h1>2048</h1>\n",
        "        <hr>\n",
        "        <h2>Score:{}</h2>\n",
        "        <h2>Gameover:{}</h2>\n",
        "        <hr>\n",
        "        <button id = 'u'>↑</button>\n",
        "        <br>\n",
        "        <button id = 'l'>←</button>\n",
        "        <button id = 'd'>↓</button>\n",
        "        <button id = 'r'>→</button>\n",
        "        <hr>\n",
        "        <div class = 'tiles'>{}</div>\n",
        "      </body>\n",
        "      \"\"\".format(self._css, self._js, self._model._score, self._model._done, table)\n",
        "\n",
        "    if(self._model._done == True):\n",
        "      self._html = \"\"\"\n",
        "      <html>\n",
        "        <head>\n",
        "          <style>{}</style>\n",
        "        </head>\n",
        "        <body>\n",
        "          <h1>2048</h1>\n",
        "          <hr>\n",
        "          <h2>Score:{}</h2>\n",
        "          <h2>Gameover:{}</h2>\n",
        "          <hr>\n",
        "          <hr>\n",
        "          <div class = 'tiles'>{}</div>\n",
        "        </body>\n",
        "        \"\"\".format(self._css, self._model._score, self._model._done, table)\n",
        "  \n",
        "\n"
      ],
      "metadata": {
        "id": "5lROTPf1lQjT"
      },
      "execution_count": null,
      "outputs": []
    },
    {
      "cell_type": "code",
      "source": [
        "def main_with_end(m = Model()):\n",
        "  v = View_with_end(model = m)\n",
        "  m.update()\n",
        "  v.display()"
      ],
      "metadata": {
        "id": "_tc0V8F3lSVF"
      },
      "execution_count": null,
      "outputs": []
    },
    {
      "cell_type": "code",
      "source": [
        "class Model2(Model):#with cost\n",
        "  def __init__(self, size = (4, 4), score = 0, done = False):\n",
        "    self._size = size\n",
        "    self._score = score\n",
        "    self._done = done\n",
        "    self._empty = 1\n",
        "    self._tiles = np.array([[self._empty for c in range(self._size[1])] for r in range(self._size[0])])\n",
        "\n",
        "\n",
        "  def action(self, command):\n",
        "    self._score -= 1\n",
        "    param = {\n",
        "        \"u\":[range(self._size[0]), range(self._size[1]), -1, 0],\n",
        "        \"d\":[range(self._size[0] -1, -1, -1), range(self._size[1] -1, -1, -1), 1, 0],\n",
        "        \"l\":[range(self._size[0]), range(self._size[1]), 0, -1],\n",
        "        \"r\":[range(self._size[0] -1, -1, -1), range(self._size[1] -1, -1, -1), 0, 1]\n",
        "    }\n",
        "    rows, cols, dr, dc = param[command]\n",
        "    for row in rows:\n",
        "      for col in cols:\n",
        "        r = row\n",
        "        c = col\n",
        "\n",
        "        while True:\n",
        "          r += dr\n",
        "          c += dc\n",
        "          if 0 <= r < self._size[0] and 0 <= c < self._size[1]:\n",
        "            if self._tiles[r, c] == self._empty:\n",
        "              self._tiles[r, c] = self._tiles[r - dr, c - dc]\n",
        "              self._tiles[r - dr, c - dc] = self._empty\n",
        "\n",
        "            elif self._tiles[r, c] == self._tiles[r - dr, c - dc]:\n",
        "              self._tiles[r, c] += self._tiles[r - dr, c - dc]\n",
        "              self._tiles[r - dr, c - dc] = self._empty\n",
        "              self._score += self._tiles[r, c]\n",
        "              break\n",
        "            \n",
        "            else:\n",
        "              break\n",
        "\n",
        "          else:\n",
        "            break"
      ],
      "metadata": {
        "id": "2r31cEnyZWZP"
      },
      "execution_count": null,
      "outputs": []
    },
    {
      "cell_type": "code",
      "source": [
        "if __name__ ==\"__main__\":\n",
        "  main_with_end(Model2(size=(1, 1)))"
      ],
      "metadata": {
        "id": "YZC_uzKBam9b"
      },
      "execution_count": null,
      "outputs": []
    },
    {
      "cell_type": "code",
      "source": [
        "class Model3(Model2):#cost, clear, limit\n",
        "  def __init__(self, size = (4, 4), score = 0, done = False, clear = 2048, limit = -1):\n",
        "    self._size = size\n",
        "    self._score = score\n",
        "    self._done = done\n",
        "    self._empty = 1\n",
        "    self._tiles = np.array([[self._empty for c in range(self._size[1])] for r in range(self._size[0])])\n",
        "    self._clear = clear\n",
        "    self._limit = limit\n",
        "    self._reward = clear * 100\n",
        "\n",
        "  def update(self):\n",
        "\n",
        "\n",
        "    rows, cols = np.where(self._tiles == self._clear)\n",
        "    self._limit -= 1\n",
        "\n",
        "    if len(rows) != 0:\n",
        "      self._done = True\n",
        "      self._score += self._reward\n",
        "\n",
        "    elif self._limit == -1:\n",
        "      self._done = True\n",
        "      self._score -= self._reward\n",
        "\n",
        "    if(self._done != True):\n",
        "      rows, cols = np.where(self._tiles == self._empty)\n",
        "\n",
        "      if len(rows) == 0:\n",
        "        self._done = True\n",
        "        self._score -= self._reward\n",
        "\n",
        "      else:\n",
        "        idx = np.random.randint(0, len(rows))\n",
        "        row, col = rows[idx], cols[idx]\n",
        "        val = self.new_tile_val()\n",
        "        self._tiles[row, col] = val\n",
        "\n",
        "\n",
        "\n"
      ],
      "metadata": {
        "id": "fGywTop3jYne"
      },
      "execution_count": null,
      "outputs": []
    },
    {
      "cell_type": "code",
      "source": [
        ""
      ],
      "metadata": {
        "id": "n9CA9M2AiTcn"
      },
      "execution_count": null,
      "outputs": []
    },
    {
      "cell_type": "code",
      "source": [
        "if __name__ ==\"__main__\":\n",
        "  main_with_end(Model3(size = (4, 4), score = 0, done = False, clear = 16, limit = -1))"
      ],
      "metadata": {
        "id": "p46yrhUWoUww"
      },
      "execution_count": null,
      "outputs": []
    }
  ]
}